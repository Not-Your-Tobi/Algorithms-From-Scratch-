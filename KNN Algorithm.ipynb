{
 "cells": [
  {
   "cell_type": "markdown",
   "id": "9d070d70-c3c1-43cf-8ef9-4610a97f2202",
   "metadata": {},
   "source": [
    "This code shows how to create a simple K Nearest Neigbors Algorithm \n",
    "K Nearest Neighbors is a classification algoruthm that works by calculating the euclidean distance between the new data to be classified and all the  data points of each class.  it selects the closest K distances and uses the more frequent class in K to classify the new data point "
   ]
  },
  {
   "cell_type": "code",
   "execution_count": 2,
   "id": "75e434eb-de6a-40b8-a14b-0b62c923d6a4",
   "metadata": {},
   "outputs": [],
   "source": [
    "#Importing all the necessary libraries \n",
    "import pandas as pd \n",
    "import numpy as np \n",
    "import matplotlib.pyplot as plt \n",
    "from collections import Counter \n",
    "from matplotlib import style\n",
    "style.use('ggplot')"
   ]
  },
  {
   "cell_type": "markdown",
   "id": "8bacecba-421d-4ec2-bd53-bcb6cc99872d",
   "metadata": {},
   "source": [
    "Creating the classification classes and the data to be classified. And also visualizing the result.\n",
    "\n"
   ]
  },
  {
   "cell_type": "code",
   "execution_count": 3,
   "id": "db104fac-e66e-4c36-a9e0-28f8b770284f",
   "metadata": {},
   "outputs": [
    {
     "data": {
      "text/plain": [
       "<matplotlib.collections.PathCollection at 0x174eee50910>"
      ]
     },
     "execution_count": 3,
     "metadata": {},
     "output_type": "execute_result"
    },
    {
     "data": {
      "image/png": "[encoded data removed]",
      "text/plain": [
       "<Figure size 432x288 with 1 Axes>"
      ]
     },
     "metadata": {},
     "output_type": "display_data"
    }
   ],
   "source": [
    "#Creating tewo classes: Red and Green \n",
    "dataset = { 'g': [[1,2], [2,3], [3,1]], 'r': [[6,5], [7,7], [8,6]]}\n",
    "\n",
    "#The new data whose class is unknown \n",
    "new_features = [5,7] \n",
    "\n",
    "#Creating a scatterplot that shows the two classses, Red and Green, and Black for the new data indicating that it has not been classified \n",
    "#The plot shows that without even using our algorithm the black point should be classified as red, based on the distance\n",
    "[[plt.scatter(data[0], data[1], s=100, color=groups) for data in dataset[groups]] for groups in dataset]\n",
    "plt.scatter(new_features[0], new_features[1], s=100, color='black')"
   ]
  },
  {
   "cell_type": "markdown",
   "id": "d58f57d1-5c32-4229-a2ba-9c17fe8487f9",
   "metadata": {},
   "source": [
    "Writing the KNN function to determone the class for the new data"
   ]
  },
  {
   "cell_type": "code",
   "execution_count": 5,
   "id": "7bc3622d-a4ed-4071-9909-5221d9238f71",
   "metadata": {},
   "outputs": [],
   "source": [
    "\n",
    "def K_Nearest_Neigbors(classes, predict, k=3):\n",
    "    #Creating an empty list to store the distances of all the data points from the new data\n",
    "    distances = [] \n",
    "    #For Loop to calculate the distances and store it in the distances list we created\n",
    "    for __class__ in classes:\n",
    "        for data in classes[__class__]:\n",
    "            euclidean_distances = np.linalg.norm(np.array(data) - np.array(predict))\n",
    "            distances.append([euclidean_distances, __class__])\n",
    "    #Sroring the K shortest distances in a varaible \n",
    "    #In this case we stored the 3 shortest distances since our K is 3\n",
    "    shortest_distances = [i[1] for i in sorted(distances)[:k]] \n",
    "    print(Counter(shortest_distances).most_common(1))\n",
    "    #Checking the classes of the 3 shortest distances calculated\n",
    "    new_class = Counter(shortest_distances).most_common(1)[0][0]\n",
    "    #Returning the class where our new data belongs to based on the more frequent class of the 3 shortest distances\n",
    "    return(\"The new data we are predicting for belongs to the class\", new_class )\n",
    "\n",
    "        "
   ]
  },
  {
   "cell_type": "code",
   "execution_count": 7,
   "id": "d9bfa821-d9e6-4644-8039-2822fcac8b59",
   "metadata": {},
   "outputs": [
    {
     "name": "stdout",
     "output_type": "stream",
     "text": [
      "[('r', 3)]\n"
     ]
    },
    {
     "data": {
      "text/plain": [
       "('The new data we are predicting for belongs to the class', 'r')"
      ]
     },
     "execution_count": 7,
     "metadata": {},
     "output_type": "execute_result"
    }
   ],
   "source": [
    "#Running the code and printing out the output \n",
    "K_Nearest_Neigbors(dataset, new_features, k=3)"
   ]
  },
  {
   "cell_type": "code",
   "execution_count": null,
   "id": "ac2907fd-62af-4327-827e-56d45b4eb740",
   "metadata": {},
   "outputs": [],
   "source": []
  }
 ],
 "metadata": {
  "kernelspec": {
   "display_name": "Python 3 (ipykernel)",
   "language": "python",
   "name": "python3"
  },
  "language_info": {
   "codemirror_mode": {
    "name": "ipython",
    "version": 3
   },
   "file_extension": ".py",
   "mimetype": "text/x-python",
   "name": "python",
   "nbconvert_exporter": "python",
   "pygments_lexer": "ipython3",
   "version": "3.9.7"
  }
 },
 "nbformat": 4,
 "nbformat_minor": 5
}
